{
 "cells": [
  {
   "cell_type": "code",
   "execution_count": 2,
   "id": "48432e51",
   "metadata": {},
   "outputs": [],
   "source": [
    "import pandas as pd\n",
    "import matplotlib.pyplot as plt\n",
    "import seaborn as sns\n",
    "import sys\n",
    "import os\n",
    "sys.path.append(os.path.abspath('../src'))\n",
    "# Plotting setup\n",
    "plt.style.use(\"seaborn-v0_8-darkgrid\")\n",
    "sns.set_context(\"notebook\")\n",
    "from diagnostics import run_adf_test, calculate_var, calculate_sharpe_ratio\n",
    "\n",
    "# Load enriched data\n",
    "assets = {\n",
    "    \"TSLA\": pd.read_csv(\"../data/processed/TSLA_enriched.csv\", parse_dates=[\"Date\"], index_col=\"Date\"),\n",
    "    \"SPY\": pd.read_csv(\"../data/processed/SPY_enriched.csv\", parse_dates=[\"Date\"], index_col=\"Date\"),\n",
    "    \"BND\": pd.read_csv(\"../data/processed/BND_enriched.csv\", parse_dates=[\"Date\"], index_col=\"Date\")\n",
    "}\n"
   ]
  },
  {
   "cell_type": "code",
   "execution_count": 3,
   "id": "aa00e30a",
   "metadata": {},
   "outputs": [
    {
     "name": "stdout",
     "output_type": "stream",
     "text": [
      "\n",
      "🔍 ADF Test for TSLA (Price)\n",
      "Test Statistic: -1.4189\n",
      "P-value: 0.5732\n",
      "Critical Values:\n",
      "  1%: -3.4330\n",
      "  5%: -2.8627\n",
      "  10%: -2.5674\n",
      "⚠️ Likely Non-Stationary (p ≥ 0.05)\n",
      "\n",
      "🔍 ADF Test for TSLA (Return)\n",
      "Test Statistic: -34.6811\n",
      "P-value: 0.0000\n",
      "Critical Values:\n",
      "  1%: -3.4329\n",
      "  5%: -2.8627\n",
      "  10%: -2.5674\n",
      "✅ Likely Stationary (p < 0.05)\n",
      "\n",
      "🔍 ADF Test for SPY (Price)\n",
      "Test Statistic: 0.6908\n",
      "P-value: 0.9897\n",
      "Critical Values:\n",
      "  1%: -3.4329\n",
      "  5%: -2.8627\n",
      "  10%: -2.5674\n",
      "⚠️ Likely Non-Stationary (p ≥ 0.05)\n",
      "\n",
      "🔍 ADF Test for SPY (Return)\n",
      "Test Statistic: -16.2644\n",
      "P-value: 0.0000\n",
      "Critical Values:\n",
      "  1%: -3.4329\n",
      "  5%: -2.8627\n",
      "  10%: -2.5674\n",
      "✅ Likely Stationary (p < 0.05)\n",
      "\n",
      "🔍 ADF Test for BND (Price)\n",
      "Test Statistic: -1.5363\n",
      "P-value: 0.5155\n",
      "Critical Values:\n",
      "  1%: -3.4329\n",
      "  5%: -2.8627\n",
      "  10%: -2.5674\n",
      "⚠️ Likely Non-Stationary (p ≥ 0.05)\n",
      "\n",
      "🔍 ADF Test for BND (Return)\n",
      "Test Statistic: -9.8898\n",
      "P-value: 0.0000\n",
      "Critical Values:\n",
      "  1%: -3.4330\n",
      "  5%: -2.8627\n",
      "  10%: -2.5674\n",
      "✅ Likely Stationary (p < 0.05)\n"
     ]
    }
   ],
   "source": [
    "# Run ADF test on both Close price and Daily Return\n",
    "for name, df in assets.items():\n",
    "    run_adf_test(df[\"Close\"], f\"{name} (Price)\")\n",
    "    run_adf_test(df[\"Daily_Return\"], f\"{name} (Return)\")\n"
   ]
  },
  {
   "cell_type": "code",
   "execution_count": null,
   "id": "27d9d22b",
   "metadata": {},
   "outputs": [],
   "source": []
  }
 ],
 "metadata": {
  "kernelspec": {
   "display_name": ".venv",
   "language": "python",
   "name": "python3"
  },
  "language_info": {
   "codemirror_mode": {
    "name": "ipython",
    "version": 3
   },
   "file_extension": ".py",
   "mimetype": "text/x-python",
   "name": "python",
   "nbconvert_exporter": "python",
   "pygments_lexer": "ipython3",
   "version": "3.13.5"
  }
 },
 "nbformat": 4,
 "nbformat_minor": 5
}
