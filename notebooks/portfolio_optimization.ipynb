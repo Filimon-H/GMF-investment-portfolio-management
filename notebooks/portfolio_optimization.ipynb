{
 "cells": [
  {
   "cell_type": "code",
   "execution_count": 3,
   "id": "61e22127",
   "metadata": {},
   "outputs": [
    {
     "data": {
      "text/html": [
       "<div>\n",
       "<style scoped>\n",
       "    .dataframe tbody tr th:only-of-type {\n",
       "        vertical-align: middle;\n",
       "    }\n",
       "\n",
       "    .dataframe tbody tr th {\n",
       "        vertical-align: top;\n",
       "    }\n",
       "\n",
       "    .dataframe thead th {\n",
       "        text-align: right;\n",
       "    }\n",
       "</style>\n",
       "<table border=\"1\" class=\"dataframe\">\n",
       "  <thead>\n",
       "    <tr style=\"text-align: right;\">\n",
       "      <th></th>\n",
       "      <th>TSLA</th>\n",
       "      <th>SPY</th>\n",
       "      <th>BND</th>\n",
       "    </tr>\n",
       "    <tr>\n",
       "      <th>Date</th>\n",
       "      <th></th>\n",
       "      <th></th>\n",
       "      <th></th>\n",
       "    </tr>\n",
       "  </thead>\n",
       "  <tbody>\n",
       "    <tr>\n",
       "      <th>2015-07-02</th>\n",
       "      <td>0.040386</td>\n",
       "      <td>-0.000916</td>\n",
       "      <td>0.002472</td>\n",
       "    </tr>\n",
       "    <tr>\n",
       "      <th>2015-07-06</th>\n",
       "      <td>-0.001071</td>\n",
       "      <td>-0.002846</td>\n",
       "      <td>0.003452</td>\n",
       "    </tr>\n",
       "    <tr>\n",
       "      <th>2015-07-07</th>\n",
       "      <td>-0.042328</td>\n",
       "      <td>0.006289</td>\n",
       "      <td>0.000983</td>\n",
       "    </tr>\n",
       "    <tr>\n",
       "      <th>2015-07-08</th>\n",
       "      <td>-0.048231</td>\n",
       "      <td>-0.016777</td>\n",
       "      <td>0.002825</td>\n",
       "    </tr>\n",
       "    <tr>\n",
       "      <th>2015-07-09</th>\n",
       "      <td>0.011610</td>\n",
       "      <td>0.001809</td>\n",
       "      <td>-0.003306</td>\n",
       "    </tr>\n",
       "  </tbody>\n",
       "</table>\n",
       "</div>"
      ],
      "text/plain": [
       "                TSLA       SPY       BND\n",
       "Date                                    \n",
       "2015-07-02  0.040386 -0.000916  0.002472\n",
       "2015-07-06 -0.001071 -0.002846  0.003452\n",
       "2015-07-07 -0.042328  0.006289  0.000983\n",
       "2015-07-08 -0.048231 -0.016777  0.002825\n",
       "2015-07-09  0.011610  0.001809 -0.003306"
      ]
     },
     "execution_count": 3,
     "metadata": {},
     "output_type": "execute_result"
    }
   ],
   "source": [
    "import pandas as pd\n",
    "import matplotlib.pyplot as plt\n",
    "import seaborn as sns\n",
    "import sys\n",
    "import os\n",
    "sys.path.append(os.path.abspath('../src'))\n",
    "from portfolio_utils import load_asset_data, compute_daily_returns\n",
    "\n",
    "# Load processed CSVs\n",
    "tsla, spy, bnd = load_asset_data(\n",
    "    \"../data/processed/TSLA_clean.csv\",\n",
    "    \"../data/processed/SPY_clean.csv\",\n",
    "    \"../data/processed/BND_clean.csv\"\n",
    ")\n",
    "\n",
    "# Compute daily returns\n",
    "tsla_returns = compute_daily_returns(tsla)\n",
    "spy_returns = compute_daily_returns(spy)\n",
    "bnd_returns = compute_daily_returns(bnd)\n",
    "\n",
    "# Combine into one DataFrame\n",
    "returns_df = pd.concat([tsla_returns, spy_returns, bnd_returns], axis=1)\n",
    "returns_df.columns = [\"TSLA\", \"SPY\", \"BND\"]\n",
    "\n",
    "returns_df.head()\n"
   ]
  },
  {
   "cell_type": "code",
   "execution_count": null,
   "id": "fc5613f6",
   "metadata": {},
   "outputs": [],
   "source": []
  }
 ],
 "metadata": {
  "kernelspec": {
   "display_name": ".venv",
   "language": "python",
   "name": "python3"
  },
  "language_info": {
   "codemirror_mode": {
    "name": "ipython",
    "version": 3
   },
   "file_extension": ".py",
   "mimetype": "text/x-python",
   "name": "python",
   "nbconvert_exporter": "python",
   "pygments_lexer": "ipython3",
   "version": "3.13.5"
  }
 },
 "nbformat": 4,
 "nbformat_minor": 5
}
