{
 "cells": [
  {
   "cell_type": "code",
   "execution_count": 1,
   "id": "61e22127",
   "metadata": {},
   "outputs": [
    {
     "data": {
      "text/html": [
       "<div>\n",
       "<style scoped>\n",
       "    .dataframe tbody tr th:only-of-type {\n",
       "        vertical-align: middle;\n",
       "    }\n",
       "\n",
       "    .dataframe tbody tr th {\n",
       "        vertical-align: top;\n",
       "    }\n",
       "\n",
       "    .dataframe thead th {\n",
       "        text-align: right;\n",
       "    }\n",
       "</style>\n",
       "<table border=\"1\" class=\"dataframe\">\n",
       "  <thead>\n",
       "    <tr style=\"text-align: right;\">\n",
       "      <th></th>\n",
       "      <th>TSLA</th>\n",
       "      <th>SPY</th>\n",
       "      <th>BND</th>\n",
       "    </tr>\n",
       "    <tr>\n",
       "      <th>Date</th>\n",
       "      <th></th>\n",
       "      <th></th>\n",
       "      <th></th>\n",
       "    </tr>\n",
       "  </thead>\n",
       "  <tbody>\n",
       "    <tr>\n",
       "      <th>2015-07-02</th>\n",
       "      <td>0.040386</td>\n",
       "      <td>-0.000916</td>\n",
       "      <td>0.002472</td>\n",
       "    </tr>\n",
       "    <tr>\n",
       "      <th>2015-07-06</th>\n",
       "      <td>-0.001071</td>\n",
       "      <td>-0.002846</td>\n",
       "      <td>0.003452</td>\n",
       "    </tr>\n",
       "    <tr>\n",
       "      <th>2015-07-07</th>\n",
       "      <td>-0.042328</td>\n",
       "      <td>0.006289</td>\n",
       "      <td>0.000983</td>\n",
       "    </tr>\n",
       "    <tr>\n",
       "      <th>2015-07-08</th>\n",
       "      <td>-0.048231</td>\n",
       "      <td>-0.016777</td>\n",
       "      <td>0.002825</td>\n",
       "    </tr>\n",
       "    <tr>\n",
       "      <th>2015-07-09</th>\n",
       "      <td>0.011610</td>\n",
       "      <td>0.001809</td>\n",
       "      <td>-0.003306</td>\n",
       "    </tr>\n",
       "  </tbody>\n",
       "</table>\n",
       "</div>"
      ],
      "text/plain": [
       "                TSLA       SPY       BND\n",
       "Date                                    \n",
       "2015-07-02  0.040386 -0.000916  0.002472\n",
       "2015-07-06 -0.001071 -0.002846  0.003452\n",
       "2015-07-07 -0.042328  0.006289  0.000983\n",
       "2015-07-08 -0.048231 -0.016777  0.002825\n",
       "2015-07-09  0.011610  0.001809 -0.003306"
      ]
     },
     "execution_count": 1,
     "metadata": {},
     "output_type": "execute_result"
    }
   ],
   "source": [
    "import pandas as pd\n",
    "import matplotlib.pyplot as plt\n",
    "import seaborn as sns\n",
    "import sys\n",
    "import os\n",
    "sys.path.append(os.path.abspath('../src'))\n",
    "from portfolio_utils import load_asset_data, compute_daily_returns\n",
    "\n",
    "# Load processed CSVs\n",
    "tsla, spy, bnd = load_asset_data(\n",
    "    \"../data/processed/TSLA_clean.csv\",\n",
    "    \"../data/processed/SPY_clean.csv\",\n",
    "    \"../data/processed/BND_clean.csv\"\n",
    ")\n",
    "\n",
    "# Compute daily returns\n",
    "tsla_returns = compute_daily_returns(tsla)\n",
    "spy_returns = compute_daily_returns(spy)\n",
    "bnd_returns = compute_daily_returns(bnd)\n",
    "\n",
    "# Combine into one DataFrame\n",
    "returns_df = pd.concat([tsla_returns, spy_returns, bnd_returns], axis=1)\n",
    "returns_df.columns = [\"TSLA\", \"SPY\", \"BND\"]\n",
    "\n",
    "returns_df.head()\n"
   ]
  },
  {
   "cell_type": "code",
   "execution_count": 2,
   "id": "fc5613f6",
   "metadata": {},
   "outputs": [
    {
     "name": "stdout",
     "output_type": "stream",
     "text": [
      "📈 TSLA expected annual return from LSTM forecast: -25.03%\n"
     ]
    }
   ],
   "source": [
    "import pandas as pd\n",
    "\n",
    "# Load your LSTM forecast\n",
    "lstm_df = pd.read_csv(\"../results/forecasts/tsla_lstm_future_forecast.csv\", parse_dates=[\"Date\"])\n",
    "lstm_df.set_index(\"Date\", inplace=True)\n",
    "\n",
    "# Calculate daily % returns from forecasted prices\n",
    "lstm_df['Forecast_Return'] = lstm_df['Forecast'].pct_change()\n",
    "daily_returns = lstm_df['Forecast_Return'].dropna()\n",
    "\n",
    "# Convert daily return to annual return\n",
    "tsla_expected_annual = daily_returns.mean() * 252\n",
    "\n",
    "print(f\"📈 TSLA expected annual return from LSTM forecast: {tsla_expected_annual:.2%}\")\n"
   ]
  },
  {
   "cell_type": "code",
   "execution_count": 3,
   "id": "3f365a0f",
   "metadata": {},
   "outputs": [
    {
     "data": {
      "text/plain": [
       "{'TSLA': -0.2503,\n",
       " 'SPY': np.float64(0.14484444876286645),\n",
       " 'BND': np.float64(0.019599375059884364)}"
      ]
     },
     "execution_count": 3,
     "metadata": {},
     "output_type": "execute_result"
    }
   ],
   "source": [
    "from portfolio_utils import calculate_expected_returns\n",
    "\n",
    "# Manually input LSTM-based TSLA expected annual return\n",
    "tsla_expected_annual = -0.2503 # Replace with your actual calculated value\n",
    "\n",
    "# Calculate expected returns for all assets\n",
    "expected_returns = calculate_expected_returns(\n",
    "    tsla_expected_annual,\n",
    "    returns_df[\"SPY\"],\n",
    "    returns_df[\"BND\"]\n",
    ")\n",
    "\n",
    "expected_returns\n"
   ]
  },
  {
   "cell_type": "code",
   "execution_count": 4,
   "id": "fc2cdcb2",
   "metadata": {},
   "outputs": [
    {
     "data": {
      "text/html": [
       "<div>\n",
       "<style scoped>\n",
       "    .dataframe tbody tr th:only-of-type {\n",
       "        vertical-align: middle;\n",
       "    }\n",
       "\n",
       "    .dataframe tbody tr th {\n",
       "        vertical-align: top;\n",
       "    }\n",
       "\n",
       "    .dataframe thead th {\n",
       "        text-align: right;\n",
       "    }\n",
       "</style>\n",
       "<table border=\"1\" class=\"dataframe\">\n",
       "  <thead>\n",
       "    <tr style=\"text-align: right;\">\n",
       "      <th></th>\n",
       "      <th>TSLA</th>\n",
       "      <th>SPY</th>\n",
       "      <th>BND</th>\n",
       "    </tr>\n",
       "  </thead>\n",
       "  <tbody>\n",
       "    <tr>\n",
       "      <th>TSLA</th>\n",
       "      <td>0.001390</td>\n",
       "      <td>0.000210</td>\n",
       "      <td>0.000007</td>\n",
       "    </tr>\n",
       "    <tr>\n",
       "      <th>SPY</th>\n",
       "      <td>0.000210</td>\n",
       "      <td>0.000132</td>\n",
       "      <td>0.000005</td>\n",
       "    </tr>\n",
       "    <tr>\n",
       "      <th>BND</th>\n",
       "      <td>0.000007</td>\n",
       "      <td>0.000005</td>\n",
       "      <td>0.000012</td>\n",
       "    </tr>\n",
       "  </tbody>\n",
       "</table>\n",
       "</div>"
      ],
      "text/plain": [
       "          TSLA       SPY       BND\n",
       "TSLA  0.001390  0.000210  0.000007\n",
       "SPY   0.000210  0.000132  0.000005\n",
       "BND   0.000007  0.000005  0.000012"
      ]
     },
     "execution_count": 4,
     "metadata": {},
     "output_type": "execute_result"
    }
   ],
   "source": [
    "from portfolio_utils import compute_covariance_matrix\n",
    "\n",
    "# Compute daily return covariance matrix\n",
    "cov_matrix = compute_covariance_matrix(returns_df)\n",
    "\n",
    "cov_matrix\n"
   ]
  }
 ],
 "metadata": {
  "kernelspec": {
   "display_name": ".venv",
   "language": "python",
   "name": "python3"
  },
  "language_info": {
   "codemirror_mode": {
    "name": "ipython",
    "version": 3
   },
   "file_extension": ".py",
   "mimetype": "text/x-python",
   "name": "python",
   "nbconvert_exporter": "python",
   "pygments_lexer": "ipython3",
   "version": "3.13.5"
  }
 },
 "nbformat": 4,
 "nbformat_minor": 5
}
