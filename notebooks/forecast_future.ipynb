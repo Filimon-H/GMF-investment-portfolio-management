{
 "cells": [
  {
   "cell_type": "code",
   "execution_count": 2,
   "id": "23cc1e75",
   "metadata": {},
   "outputs": [],
   "source": [
    "import numpy as np\n",
    "import pandas as pd\n",
    "import matplotlib.pyplot as plt\n",
    "from tensorflow.keras.models import load_model\n",
    "import joblib\n",
    "from sklearn.preprocessing import MinMaxScaler\n",
    "import warnings\n",
    "warnings.filterwarnings(\"ignore\")"
   ]
  },
  {
   "cell_type": "code",
   "execution_count": 3,
   "id": "25ee9c1d",
   "metadata": {},
   "outputs": [],
   "source": [
    "# Load model\n",
    "model_lstm = load_model(\"../models/saved/tsla_lstm_model.keras\")\n",
    "\n",
    "# Load and prepare data\n",
    "df = pd.read_csv(\"../data/processed/TSLA_enriched.csv\", parse_dates=[\"Date\"], index_col=\"Date\")\n",
    "close_prices = df[['Close']].copy()\n",
    "\n",
    "# Refit scaler to match what was used during training\n",
    "scaler = MinMaxScaler()\n",
    "close_scaled = scaler.fit_transform(close_prices)\n"
   ]
  },
  {
   "cell_type": "code",
   "execution_count": null,
   "id": "9b8583f7",
   "metadata": {},
   "outputs": [],
   "source": []
  }
 ],
 "metadata": {
  "kernelspec": {
   "display_name": ".venv",
   "language": "python",
   "name": "python3"
  },
  "language_info": {
   "codemirror_mode": {
    "name": "ipython",
    "version": 3
   },
   "file_extension": ".py",
   "mimetype": "text/x-python",
   "name": "python",
   "nbconvert_exporter": "python",
   "pygments_lexer": "ipython3",
   "version": "3.13.5"
  }
 },
 "nbformat": 4,
 "nbformat_minor": 5
}
