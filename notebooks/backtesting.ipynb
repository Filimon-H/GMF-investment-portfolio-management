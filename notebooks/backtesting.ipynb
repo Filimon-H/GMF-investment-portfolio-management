{
 "cells": [
  {
   "cell_type": "code",
   "execution_count": 3,
   "id": "bbb04ab7",
   "metadata": {},
   "outputs": [],
   "source": [
    "import pandas as pd\n",
    "\n",
    "# Load historical prices\n",
    "tsla = pd.read_csv(\"../data/processed/TSLA_clean.csv\", index_col=\"Date\", parse_dates=True)\n",
    "spy = pd.read_csv(\"../data/processed/SPY_clean.csv\", index_col=\"Date\", parse_dates=True)\n",
    "bnd = pd.read_csv(\"../data/processed/BND_clean.csv\", index_col=\"Date\", parse_dates=True)\n"
   ]
  },
  {
   "cell_type": "code",
   "execution_count": 4,
   "id": "1bd66c3c",
   "metadata": {},
   "outputs": [],
   "source": [
    "# Calculate daily returns\n",
    "tsla_ret = tsla['Close'].pct_change().rename(\"TSLA\")\n",
    "spy_ret = spy['Close'].pct_change().rename(\"SPY\")\n",
    "bnd_ret = bnd['Close'].pct_change().rename(\"BND\")\n",
    "\n",
    "# Combine into one DataFrame\n",
    "returns_df = pd.concat([tsla_ret, spy_ret, bnd_ret], axis=1).dropna()\n"
   ]
  },
  {
   "cell_type": "code",
   "execution_count": 5,
   "id": "c14156f8",
   "metadata": {},
   "outputs": [],
   "source": [
    "returns_df.to_csv(\"../data/processed/returns.csv\")\n"
   ]
  },
  {
   "cell_type": "code",
   "execution_count": 6,
   "id": "28ac1001",
   "metadata": {},
   "outputs": [],
   "source": [
    "# Define backtesting period\n",
    "backtest_start = \"2024-08-01\"\n",
    "backtest_end = \"2025-07-31\"\n"
   ]
  },
  {
   "cell_type": "code",
   "execution_count": 8,
   "id": "195f3c6b",
   "metadata": {},
   "outputs": [],
   "source": [
    "import pandas as pd\n",
    "import matplotlib.pyplot as plt\n",
    "import seaborn as sns\n",
    "import sys\n",
    "import os\n",
    "sys.path.append(os.path.abspath('../src'))\n",
    "from backtest_utils import simulate_portfolio, calculate_sharpe_ratio\n",
    "\n",
    "# Filter returns for backtest window\n",
    "backtest_returns = returns_df.loc[backtest_start:backtest_end]\n",
    "\n",
    "# Strategy weights from Task 4\n",
    "strategy_weights = {\n",
    "    \"TSLA\": 0.0001,\n",
    "    \"SPY\": 0.5703,\n",
    "    \"BND\": 0.4296\n",
    "}\n",
    "\n",
    "# Benchmark weights\n",
    "benchmark_weights = {\n",
    "    \"TSLA\": 0.0,\n",
    "    \"SPY\": 0.6,\n",
    "    \"BND\": 0.4\n",
    "}\n",
    "\n",
    "# Simulate both portfolios\n",
    "strategy_perf = simulate_portfolio(backtest_returns, strategy_weights)\n",
    "benchmark_perf = simulate_portfolio(backtest_returns, benchmark_weights)\n"
   ]
  }
 ],
 "metadata": {
  "kernelspec": {
   "display_name": ".venv",
   "language": "python",
   "name": "python3"
  },
  "language_info": {
   "codemirror_mode": {
    "name": "ipython",
    "version": 3
   },
   "file_extension": ".py",
   "mimetype": "text/x-python",
   "name": "python",
   "nbconvert_exporter": "python",
   "pygments_lexer": "ipython3",
   "version": "3.13.5"
  }
 },
 "nbformat": 4,
 "nbformat_minor": 5
}
